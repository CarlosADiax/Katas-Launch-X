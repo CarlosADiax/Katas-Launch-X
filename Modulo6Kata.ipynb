{
 "cells": [
  {
   "cell_type": "markdown",
   "metadata": {},
   "source": [
    "## Ejercicio1: Crear y usar listas de Python\n",
    "Las listas permiten almacenar varios valores en una sola variable. Comenzarás un proyecto sobre información planetaria creando una lista de planetas."
   ]
  },
  {
   "cell_type": "code",
   "execution_count": 1,
   "metadata": {},
   "outputs": [
    {
     "name": "stdout",
     "output_type": "stream",
     "text": [
      "Hay 8 planetas\n",
      "Ahora hay 9 planetas, y se agregó Plutón\n"
     ]
    }
   ],
   "source": [
    "# Creamos la lista planets y la mostramos\n",
    "planets=[\"Mercurio\", \"Venus\", \"Tierra\", \"Marte\", \"Júpiter\", \"Saturno\", \"Urano\", \"Neptuno\"]\n",
    "print(\"\"\"Hay %s planetas\"\"\"%(len(planets)))\n",
    "\n",
    "#Agregamos a plutón y mostramos el último elemento\n",
    "planets.append(\"Plutón\")\n",
    "print(\"\"\"Ahora hay %s planetas, y se agregó %s\"\"\"%(len(planets),planets[-1]))"
   ]
  },
  {
   "cell_type": "markdown",
   "metadata": {},
   "source": [
    "## Ejercicio 2: Trabajando con datos de una lista\n",
    "Comienza agregando el código para crear una lista con los planetas."
   ]
  },
  {
   "cell_type": "code",
   "execution_count": 11,
   "metadata": {},
   "outputs": [
    {
     "name": "stdout",
     "output_type": "stream",
     "text": [
      "El planeta que el usuario escribió Saturno, los planetas cercanos al son: ['Mercurio', 'Venus', 'Tierra', 'Marte', 'Júpiter']\n",
      "Los planetas lejanos al sol del que el usuario escribió ['Urano', 'Neptuno']\n"
     ]
    }
   ],
   "source": [
    "# Creamos la lista planets\n",
    "planets=[\"Mercurio\", \"Venus\", \"Tierra\", \"Marte\", \"Júpiter\", \"Saturno\", \"Urano\", \"Neptuno\"]\n",
    "\n",
    "# Solicitamos el nombre de un planeta\n",
    "user=input(\"Escribe el nombre del planeta:\")\n",
    "\n",
    "# Busca el planeta en la lista\n",
    "busqueda=planets.index(user)\n",
    "\n",
    "# Muestra los planetas más cercanos al sol\n",
    "print(\"\"\"El planeta que el usuario escribió %s, los planetas cercanos al son: %s\"\"\"%(user,planets[0:busqueda]))\n",
    "\n",
    "# Muestra los planetas más lejanos al sol\n",
    "print(\"\"\"Los planetas lejanos al sol del que el usuario escribió %s\"\"\"%(planets[busqueda+1:]))"
   ]
  }
 ],
 "metadata": {
  "interpreter": {
   "hash": "669f5abd92f1a410df15b0643b9f42360e277a412fc08ae8bc7d7911cf7e8f3d"
  },
  "kernelspec": {
   "display_name": "Python 3.10.2 64-bit",
   "language": "python",
   "name": "python3"
  },
  "language_info": {
   "codemirror_mode": {
    "name": "ipython",
    "version": 3
   },
   "file_extension": ".py",
   "mimetype": "text/x-python",
   "name": "python",
   "nbconvert_exporter": "python",
   "pygments_lexer": "ipython3",
   "version": "3.10.2"
  },
  "orig_nbformat": 4
 },
 "nbformat": 4,
 "nbformat_minor": 2
}
