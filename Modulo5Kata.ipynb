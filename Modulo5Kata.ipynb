{
 "cells": [
  {
   "cell_type": "markdown",
   "metadata": {},
   "source": [
    "## Ejercicio1 - Utilizar operadores aritméticos\n",
    "Exploremos cómo podemos crear un programa que pueda calcular la distancia entre dos planetas. Comenzaremos usando dos distancias de planetas: Tierra (149.597.870 km) y Júpiter (778.547.200 km)."
   ]
  },
  {
   "cell_type": "code",
   "execution_count": 7,
   "metadata": {},
   "outputs": [
    {
     "name": "stdout",
     "output_type": "stream",
     "text": [
      "628949330 Km\n",
      "390577533.93 Millas\n"
     ]
    }
   ],
   "source": [
    "# Crear variables para almacenar las dos distancias\n",
    "Tierra=149597870\n",
    "Jupiter=778547200\n",
    "\n",
    "#Con los valores obtenidos, es el momento de añadir el código para realizar la operación. Restarás el primer planeta del segundo \n",
    "# para determinar la distancia en kilómetros. \n",
    "# A continuación, puedes convertir la distancia del kilómetro en millas multiplicándola por 0.621.\n",
    "dist=Jupiter-Tierra\n",
    "distMillas=dist*0.621\n",
    "print(dist, \"Km\")\n",
    "print(distMillas, \"Millas\")"
   ]
  },
  {
   "cell_type": "markdown",
   "metadata": {},
   "source": [
    "## Ejercicio 2: convierte cadenas en números y usa valores absolutos"
   ]
  },
  {
   "cell_type": "code",
   "execution_count": 8,
   "metadata": {},
   "outputs": [
    {
     "name": "stdout",
     "output_type": "stream",
     "text": [
      "1375600000 Km\n",
      "854247600.0 Mi\n"
     ]
    }
   ],
   "source": [
    "# Almacenar las entradas del usuario\n",
    "primerPlaneta=input(\"Introducir la distancia del primer planeta: \")\n",
    "segundoPlaneta=input(\"Introducir la distancia del segundo planeta: \")\n",
    "\n",
    "# Convierte las cadenas de ambos planetas a números enteros\n",
    "primerPlaneta= int(primerPlaneta)\n",
    "segundoPlaneta= int(segundoPlaneta)\n",
    "\n",
    "# Realizar el cálculo y determinar el valor absoluto\n",
    "dist=segundoPlaneta-primerPlaneta\n",
    "print(abs(dist), \"Km\")\n",
    "\n",
    "# Convertir de KM a Millas\n",
    "distMilla=dist*0.621\n",
    "print(abs(distMilla), \"Mi\")"
   ]
  }
 ],
 "metadata": {
  "interpreter": {
   "hash": "669f5abd92f1a410df15b0643b9f42360e277a412fc08ae8bc7d7911cf7e8f3d"
  },
  "kernelspec": {
   "display_name": "Python 3.10.2 64-bit",
   "language": "python",
   "name": "python3"
  },
  "language_info": {
   "codemirror_mode": {
    "name": "ipython",
    "version": 3
   },
   "file_extension": ".py",
   "mimetype": "text/x-python",
   "name": "python",
   "nbconvert_exporter": "python",
   "pygments_lexer": "ipython3",
   "version": "3.10.2"
  },
  "orig_nbformat": 4
 },
 "nbformat": 4,
 "nbformat_minor": 2
}
