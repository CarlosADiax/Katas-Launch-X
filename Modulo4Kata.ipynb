{
 "cells": [
  {
   "cell_type": "markdown",
   "metadata": {},
   "source": [
    "## Transformar cadena\n",
    "Texto a utilizar\n",
    "\n",
    "Interesting facts about the Moon. The Moon is Earth's only satellite. There are several interesting facts about the Moon and how it affects life here on Earth. \n",
    "On average, the Moon moves 4cm away from the Earth every year. This yearly drift is not significant enough to cause immediate effects on Earth. The highest daylight temperature of the Moon is 127 C.\n"
   ]
  },
  {
   "cell_type": "code",
   "execution_count": 1,
   "metadata": {},
   "outputs": [
    {
     "name": "stdout",
     "output_type": "stream",
     "text": [
      "\n",
      "On average, the Moon moves 4cm away from the Earth every year\n",
      "The highest daylight temperature of the Moon is 127 C.\n",
      "\n",
      "On average, the Moon moves 4cm away from the Earth every year\n",
      "The highest daylight temperature of the Moon is 127 Celsius.\n"
     ]
    }
   ],
   "source": [
    "texto=\"\"\"Interesting facts about the Moon. The Moon is Earth's only satellite. There are several interesting facts about the Moon and how it affects life here on Earth. \n",
    "On average, the Moon moves 4cm away from the Earth every year. This yearly drift is not significant enough to cause immediate effects on Earth. The highest daylight temperature of the Moon is 127 C.\"\"\"\n",
    "\n",
    "#Dividir del texto en cada oración para trabajar con el contenido\n",
    "divTexto=texto.split('. ');\n",
    "\n",
    "# Define las palabras pista: average, temperature y distance suenan bien\n",
    "pistaPalabra=[\"average\", \"temperature\", \"distance\"]\n",
    "\n",
    "# Ciclo for para recorrer la cadena\n",
    "for enunciado in divTexto:\n",
    "    for pista in pistaPalabra:\n",
    "        if pista in enunciado:\n",
    "            print(enunciado)\n",
    "\n",
    "# Ciclo para cambiar C a Celsius\n",
    "for enunciado in divTexto:\n",
    "    for pista in pistaPalabra:\n",
    "        if pista in enunciado:\n",
    "            print(enunciado.replace('C','Celsius'))"
   ]
  },
  {
   "cell_type": "markdown",
   "metadata": {},
   "source": [
    "## Ejercicio 2: Formateando Cadenas\n",
    "n lugar de reemplazar las variables en una cadena larga como parte de un párrafo, utiliza la información para presentarla en un formato tabular. El resultado debería verse así:\n",
    "\n",
    "    Gravity Facts about Ganymede\n",
    "-------------------------------------------------------------------------------\n",
    "    Planet Name: Mars\n",
    "    Gravity on Ganymede: 1.4300000000000002 m/s2"
   ]
  },
  {
   "cell_type": "code",
   "execution_count": 2,
   "metadata": {},
   "outputs": [
    {
     "name": "stdout",
     "output_type": "stream",
     "text": [
      "Información Importante De Moon\n",
      " -----------------------------------\n",
      " Nombre del planeta: Earth \n",
      " Gravedad  de Moon: 1.6199999999999999 m/s2\n",
      "\n",
      "Información importante de Ganímedes\n",
      " -----------------------------------\n",
      " Nombre del planeta: Marte \n",
      " Gravedad de Ganímedes: 1.4300000000000002 m/s2\n"
     ]
    }
   ],
   "source": [
    "# Datos con los que se va a trabajar\n",
    "name = \"Moon\"\n",
    "gravity = 0.00162 # in kms\n",
    "planet = \"Earth\"\n",
    "\n",
    "#Crear el título\n",
    "titulo= (\"Información importante de \"+ name).title()\n",
    "\n",
    "# Crear la plantilla\n",
    "plantilla=\"\"\"%s\\n Nombre del planeta: %s \\n Gravedad  de %s: %s m/s2\\n\"\"\" %(\"-\"*35,planet, name,gravity*1000)\n",
    "\n",
    "# Unión de ambas cadenas\n",
    "tarjeta=\"\"\"%s\\n %s\"\"\" %(titulo,plantilla)\n",
    "\n",
    "#Datos muestra:\n",
    "planeta = 'Marte '\n",
    "gravedad  = 0.00143\n",
    "nombre = 'Ganímedes'\n",
    "# Comprueba la plantilla\n",
    "print(tarjeta)\n",
    "\n",
    "carta=\"\"\"Información importante de {0}\\n %s\\n Nombre del planeta: {1}\\n Gravedad de {0}: {2} m/s2\"\"\".format(nombre,planeta,gravedad*1000) %(\"-\"*35)\n",
    "\n",
    "print(carta)"
   ]
  }
 ],
 "metadata": {
  "interpreter": {
   "hash": "669f5abd92f1a410df15b0643b9f42360e277a412fc08ae8bc7d7911cf7e8f3d"
  },
  "kernelspec": {
   "display_name": "Python 3.10.2 64-bit",
   "language": "python",
   "name": "python3"
  },
  "language_info": {
   "codemirror_mode": {
    "name": "ipython",
    "version": 3
   },
   "file_extension": ".py",
   "mimetype": "text/x-python",
   "name": "python",
   "nbconvert_exporter": "python",
   "pygments_lexer": "ipython3",
   "version": "3.10.2"
  },
  "orig_nbformat": 4
 },
 "nbformat": 4,
 "nbformat_minor": 2
}
