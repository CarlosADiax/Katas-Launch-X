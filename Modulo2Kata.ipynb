{
 "cells": [
  {
   "cell_type": "markdown",
   "metadata": {},
   "source": [
    "## Ejercicio - Crear un paquete"
   ]
  },
  {
   "cell_type": "markdown",
   "metadata": {},
   "source": [
    "Creación del entorno virtual\n",
    "\n",
    "![image](images/creacion.PNG)\n",
    "\n",
    "Para la activación del entorno virtual en Windows 10 se debe colocar la dirección (url) de la carpeta en la cual se encuentra en entorno virtual con la diagonal invertida \\\n",
    "\n",
    "De esta manera, se activa y al inicio de la ruta del entorno virtual\n",
    "\n",
    "![image](images/env.png)\n",
    "\n",
    "Dentro del entorno virtual, se ejecuta el comando _pip freeze_, el cual nos muestra la lista de lo que se tiene instalado en el entorno. Pero no da ningún resultado ya que no hay nada instalado en el entorno virtual\n",
    "\n",
    "Se instala _python-dateutil_ para demostrar el funcionamiento de pip freeze\n",
    "\n",
    "![image](images/pip_install.PNG)\n",
    "\n",
    "Se vuelve a ejecutar _pip freeze_ y se ve que ahora si se muestra un resultado\n",
    "\n",
    "![image](images/freeze.PNG)\n",
    "\n",
    "Cuando ya no se quiere utilizar un entorno virtual o cambiar a otro, utilizamos el comando _deactivate_\n",
    "\n",
    "![image](images/deactivate.PNG)"
   ]
  }
 ],
 "metadata": {
  "interpreter": {
   "hash": "669f5abd92f1a410df15b0643b9f42360e277a412fc08ae8bc7d7911cf7e8f3d"
  },
  "kernelspec": {
   "display_name": "Python 3.10.2 64-bit",
   "language": "python",
   "name": "python3"
  },
  "language_info": {
   "name": "python",
   "version": "3.10.2"
  },
  "orig_nbformat": 4
 },
 "nbformat": 4,
 "nbformat_minor": 2
}
