{
 "cells": [
  {
   "cell_type": "markdown",
   "metadata": {},
   "source": [
    "## Ejercicio: Uso de funciones en Python\n",
    "Comienza por crear una función que necesite tres lecturas de combustible y devuelva un informe:"
   ]
  },
  {
   "cell_type": "code",
   "execution_count": 1,
   "metadata": {},
   "outputs": [
    {
     "name": "stdout",
     "output_type": "stream",
     "text": [
      "El promedio es: 66.66666666666667 \n",
      "Primer tanque: 80\n",
      "Segundo Tanque: 90\n",
      "Tercer Tanque: 30\n",
      "El promedio es: 33.0 \n",
      "Primer tanque: 20\n",
      "Segundo Tanque: 50\n",
      "Tercer Tanque: 29\n"
     ]
    }
   ],
   "source": [
    "# Función para leer 3 tanques de combustible y muestre el promedio\n",
    "def tancombustible(uno,dos,tres):\n",
    "    promTotal=(uno+dos+tres)/3\n",
    "    return \"\"\"El promedio es: %s \\nPrimer tanque: %s\\nSegundo Tanque: %s\\nTercer Tanque: %s\"\"\"%(promTotal,uno,dos,tres)\n",
    "\n",
    "# Llamamos a la función que genera el reporte print(funcion(tanque1, tanque2, tanque3))\n",
    "print(tancombustible(80,90,30))\n",
    "\n",
    "# Función promedio \n",
    "def promedio(prom):\n",
    "    total=sum(prom)\n",
    "    datos=len(prom)\n",
    "    return total/datos\n",
    "\n",
    "# Escribe tu nueva función\n",
    "def tancombustible(uno,dos,tres):\n",
    "    return \"\"\"El promedio es: %s \\nPrimer tanque: %s\\nSegundo Tanque: %s\\nTercer Tanque: %s\"\"\"%(promedio([uno,dos,tres]),uno,dos,tres)\n",
    "print(tancombustible(20,50,29))"
   ]
  },
  {
   "cell_type": "markdown",
   "metadata": {},
   "source": [
    "## Ejercicio 2: Trabajo con argumentos de palabra clave"
   ]
  },
  {
   "cell_type": "code",
   "execution_count": 22,
   "metadata": {},
   "outputs": [
    {
     "name": "stdout",
     "output_type": "stream",
     "text": [
      "Destino: Venus\n",
      "Tiempo vuelo: 44 minutos\n",
      "Gasolina interna: 80000 litros\n",
      "Gasolina Externa: 100000 litros\n",
      "Destino: Luna\n",
      " Tiempo vuelo: {59} minutos\n",
      "Gasolina total: {145000} litros\n",
      "\n",
      "Destino: Luna\n",
      " Tiempo vuelo: {59} minutos\n",
      "Gasolina total: {145000} litros\n",
      "interno tanque --> 100000 litros\n",
      "externo tanque --> 45000 litros\n",
      "\n"
     ]
    }
   ],
   "source": [
    "# Función con un informe preciso de la misión. Considera hora de prelanzamiento, tiempo de vuelo, destino, tanque externo y tanque interno\n",
    "def reporte(lanzamiento,tiempo,destino,externo,interno):\n",
    "    return \"\"\"Destino: %s\\nTiempo vuelo: %s minutos\\nGasolina interna: %s litros\\nGasolina Externa: %s litros\"\"\"%(destino,(lanzamiento+tiempo),interno,externo)\n",
    "\n",
    "print(reporte(14,30,\"Venus\",100000,80000))\n",
    "\n",
    "# Escribe tu nueva función de reporte considerando lo anterior\n",
    "def reporte(destino,*minutos,**gasolina):\n",
    "    return \"\"\"Destino: %s\\n Tiempo vuelo: %s minutos\\nGasolina total: %s litros\\n\"\"\"%(destino,{sum(minutos)},{sum(gasolina.values())})\n",
    "\n",
    "print(reporte(\"Luna\",5,24,30,interno=100000,externo=45000))\n",
    "\n",
    "# Escribe tu nueva función\n",
    "def reporte(destino,*minutos,**gasolina):\n",
    "    datos=\"\"\"Destino: %s\\nTiempo vuelo: %s minutos\\nGasolina total: %s litros\\n\"\"\"%(destino,{sum(minutos)},{sum(gasolina.values())})\n",
    "    for tanque, litros in gasolina.items():\n",
    "        datos+=\"\"\"%s tanque --> %s litros\\n\"\"\"%(tanque,litros)\n",
    "    return datos\n",
    "\n",
    "print(reporte(\"Luna\",5,24,30,interno=100000,externo=45000))"
   ]
  }
 ],
 "metadata": {
  "interpreter": {
   "hash": "669f5abd92f1a410df15b0643b9f42360e277a412fc08ae8bc7d7911cf7e8f3d"
  },
  "kernelspec": {
   "display_name": "Python 3.10.2 64-bit",
   "language": "python",
   "name": "python3"
  },
  "language_info": {
   "codemirror_mode": {
    "name": "ipython",
    "version": 3
   },
   "file_extension": ".py",
   "mimetype": "text/x-python",
   "name": "python",
   "nbconvert_exporter": "python",
   "pygments_lexer": "ipython3",
   "version": "3.10.2"
  },
  "orig_nbformat": 4
 },
 "nbformat": 4,
 "nbformat_minor": 2
}
